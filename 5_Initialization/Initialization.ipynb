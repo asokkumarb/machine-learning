{
 "cells": [
  {
   "cell_type": "markdown",
   "metadata": {},
   "source": [
    "## Initialization\n",
    "\n",
    "The first step that we have to do when starting training a deep neural network is to initialize our parameters.\n",
    "\n",
    "We can do initialization in three ways:\n",
    "\n",
    "### 1. Zero Initialization\n",
    "\n",
    "This is not at all recommended. Initializing all the parameters with zeros will essentially make the neural network a symmetric\n",
    "one which means that a DNN will do the same activations in each layer. There seems to be no point then to use a DNN for\n",
    "the application.\n",
    "\n",
    "\n",
    "### 2. Random Initialization\n",
    "\n",
    "Random initialization works way better than zero initialization. However, there seems to be a problem with this type of\n",
    "initialization too: Exploding and Vanishing gradients. If the initialized parameters are too large or too small, it is\n",
    "expected that the algorithm will succumb to exploding or vanishing gradients respectively.\n",
    "\n",
    "\n",
    "### 3. Xavier Initialization\n",
    "\n",
    "In Xavier initialization we first randomly initialize the paramters and multiply them by $\\sqrt{\\frac{1}{\\text{dimension of the previous layer}}}$ This gives much better remedy for exploding and vanishing gradients.\n",
    "\n",
    "\n",
    "### 4. He Initialization\n",
    "\n",
    "He initialization is similar to Xavier initialization but we multiply the randomly initialized weights with $\\sqrt{\\frac{2}{\\text{dimension of the previous layer}}}$ instead of $\\sqrt{\\frac{1}{\\text{dimension of the previous layer}}}$ . Also helps with gradients (exploding and vanishing). Better than Xavier initialization."
   ]
  },
  {
   "cell_type": "code",
   "execution_count": null,
   "metadata": {},
   "outputs": [],
   "source": []
  }
 ],
 "metadata": {
  "kernelspec": {
   "display_name": "Python 3",
   "language": "python",
   "name": "python3"
  },
  "language_info": {
   "codemirror_mode": {
    "name": "ipython",
    "version": 3
   },
   "file_extension": ".py",
   "mimetype": "text/x-python",
   "name": "python",
   "nbconvert_exporter": "python",
   "pygments_lexer": "ipython3",
   "version": "3.7.0"
  }
 },
 "nbformat": 4,
 "nbformat_minor": 2
}
