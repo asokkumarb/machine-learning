{
 "cells": [
  {
   "cell_type": "code",
   "execution_count": 1,
   "metadata": {},
   "outputs": [],
   "source": [
    "#this is the logistic regression as a neural network."
   ]
  },
  {
   "cell_type": "code",
   "execution_count": 3,
   "metadata": {},
   "outputs": [
    {
     "name": "stdout",
     "output_type": "stream",
     "text": [
      "modules loaded successfully\n"
     ]
    }
   ],
   "source": [
    "#importing the necessary packages\n",
    "import numpy as np\n",
    "import matplotlib.pyplot as plt\n",
    "import h5py\n",
    "\n",
    "%matplotlib inline\n",
    "\n",
    "print(\"modules loaded successfully\")\n"
   ]
  },
  {
   "cell_type": "code",
   "execution_count": 4,
   "metadata": {},
   "outputs": [
    {
     "ename": "SyntaxError",
     "evalue": "invalid syntax (<ipython-input-4-a3fdf7a0b516>, line 9)",
     "output_type": "error",
     "traceback": [
      "\u001b[0;36m  File \u001b[0;32m\"<ipython-input-4-a3fdf7a0b516>\"\u001b[0;36m, line \u001b[0;32m9\u001b[0m\n\u001b[0;31m    n t\u001b[0m\n\u001b[0m      ^\u001b[0m\n\u001b[0;31mSyntaxError\u001b[0m\u001b[0;31m:\u001b[0m invalid syntax\n"
     ]
    }
   ],
   "source": [
    "#now that the modules are here, let's take in the data using h5py package\n",
    "train_dataset = h5py.File(\"datasets/train_catvnoncat.h5\")\n",
    "train_set_x_orig = np.array(train_dataset[\"train_set_x\"][:]) #training set image pixel values\n",
    "train_set_y_orig = np.array(train_dataset[\"train_set_y\"][:]) #train set labels\n",
    "\n",
    "test_dataset = h5py.File(\"datasets/test_catvnoncat.h5\")\n",
    "test_set_x_orig = np.array(test_dataset[\"test_set_x\"][:]) #test set image pixels\n",
    "test_set_y_orig = np.array(test_dataset[\"test_set_y\"][:]) #test set labels\n",
    "n t\n",
    "train_set_y = train_set_y_orig.reshape((1, train_set_y_orig.shape[0]))\n",
    "test_set_y = test_set_y_orig.reshape((1, test_set_y_orig.shape[0]))\n",
    "\n",
    "print(\"dataset loaded\")"
   ]
  },
  {
   "cell_type": "code",
   "execution_count": null,
   "metadata": {},
   "outputs": [],
   "source": [
    "#let's flatten and normalize the data post which we can start our model making"
   ]
  },
  {
   "cell_type": "code",
   "execution_count": null,
   "metadata": {},
   "outputs": [],
   "source": [
    "train_set_x_flatten = train_set_x_orig.reshape((train_set_x_orig.shape[0], -1)).T\n",
    "test_set_x_flatten = test_set_x_orig.reshape((test_set_x_orig.shape[0], -1)).T\n",
    "\n",
    "#normalize\n",
    "train_X = train_set_x_flatten/255\n",
    "test_X = test_set_x_orig/255"
   ]
  },
  {
   "cell_type": "code",
   "execution_count": 5,
   "metadata": {},
   "outputs": [
    {
     "data": {
      "text/plain": [
       "\"\\n1. We need to define the neural network architecture\\n    - this involves figuring out how many neurons should be there\\n    - the number of layers (in this case it is only one input and one output layer)\\n2. Initialization\\n    -the parameter initialization. We can do zeros or random. Let's do random this time\\n3. forward propagation\\n    -calculation of the activations\\n    -calculation of the cost function based on these activations (cross entropy loss in this case)\\n4. backpropagation\\n    -this helps in calculation of the dw and db\\n5. optimization\\n    -basically using the gradient descent algorithm for updating the values of w and b parameters\\n6. predictions\\n    -evaluating the test dataset on the learned parameters\\n\""
      ]
     },
     "execution_count": 5,
     "metadata": {},
     "output_type": "execute_result"
    }
   ],
   "source": [
    "#let's start with the making pof the algorithm we gonna break it into different steps\n",
    "'''\n",
    "1. We need to define the neural network architecture\n",
    "    - this involves figuring out how many neurons should be there\n",
    "    - the number of layers (in this case it is only one input and one output layer)\n",
    "2. Initialization\n",
    "    -the parameter initialization. We can do zeros or random. Let's do random this time\n",
    "3. forward propagation\n",
    "    -calculation of the activations\n",
    "    -calculation of the cost function based on these activations (cross entropy loss in this case)\n",
    "4. backpropagation\n",
    "    -this helps in calculation of the dw and db\n",
    "5. optimization\n",
    "    -basically using the gradient descent algorithm for updating the values of w and b parameters\n",
    "6. predictions\n",
    "    -evaluating the test dataset on the learned parameters\n",
    "'''"
   ]
  },
  {
   "cell_type": "code",
   "execution_count": 17,
   "metadata": {},
   "outputs": [],
   "source": [
    "#let's start with it. Let us start with the initialization step\n",
    "#here we need to initialize the parameters based on the dimensions of the data\n",
    "\n",
    "def initialize(dims):\n",
    "    \n",
    "    w = np.random.randn(dims, 1)\n",
    "    b = 0\n",
    "    \n",
    "    assert(w.shape == (dims, 1))\n",
    "    assert(isinstance(b, float) or isinstance(b, int))\n",
    "    return w, b"
   ]
  },
  {
   "cell_type": "code",
   "execution_count": 19,
   "metadata": {},
   "outputs": [
    {
     "name": "stdout",
     "output_type": "stream",
     "text": [
      "[[-0.52888463]\n",
      " [ 0.99264257]\n",
      " [ 0.24386545]\n",
      " [ 0.62763714]]\n"
     ]
    }
   ],
   "source": [
    "#now we need to start with the propagation step. Since we need to calculate sigmoid, we need to get that\n",
    "#helper function. Let's make it.\n",
    "\n",
    "def sigmoid(z):\n",
    "    \n",
    "    s = 1/(1 + np.exp(-z))\n",
    "    \n",
    "    return s"
   ]
  },
  {
   "cell_type": "code",
   "execution_count": 20,
   "metadata": {},
   "outputs": [],
   "source": [
    "#now we can start with the propagation. First we are going to do the forward propagation and then the backward\n",
    "#propagation. Both of these steps will be coded in the propagate() function\n",
    "\n",
    "def propagate(w, b, X, Y):\n",
    "    \n",
    "    m = X.shape[1]\n",
    "    \n",
    "    A = sigmoid(np.dot(w.T, X) + b)\n",
    "    cost = -((np.sum(Y * np.log(A) + (1 - Y) * np.log(1 - A)))/m)\n",
    "    \n",
    "    #back propagation\n",
    "    dw = (1/m) * np.dot(X, (A - Y).T)\n",
    "    db = (1/m) * np.sum(A - Y)\n",
    "    \n",
    "    assert(dw.shape == w.shape)\n",
    "    assert(db.dtype == float)\n",
    "    cost = np.squeeze(cost)\n",
    "    assert(cost.shape == ())\n",
    "    \n",
    "    grads = {\"dw\" : dw, \"db\" : db}\n",
    "    \n",
    "    return grads, cost"
   ]
  },
  {
   "cell_type": "code",
   "execution_count": null,
   "metadata": {},
   "outputs": [],
   "source": [
    "def optimize(w, b, X, Y, num_iterations, learning_rate):\n",
    "    \n",
    "    costs = []\n",
    "    grads, cost = propagate(w, b, X, Y)\n",
    "    \n",
    "    dw = grads[\"dw\"]\n",
    "    db = grads[\"db\"]\n",
    "    \n",
    "    w = w - (learning_rate * dw)\n",
    "    b = b - (learning_rate * db)\n",
    "    \n",
    "    costs.append(cost)\n",
    "    \n",
    "    params = {\"w\" : w, \"b\" : b}\n",
    "    \n",
    "    grads = {\"dw\" : dw, \"db\" : db}\n",
    "    "
   ]
  }
 ],
 "metadata": {
  "kernelspec": {
   "display_name": "Python 3",
   "language": "python",
   "name": "python3"
  },
  "language_info": {
   "codemirror_mode": {
    "name": "ipython",
    "version": 3
   },
   "file_extension": ".py",
   "mimetype": "text/x-python",
   "name": "python",
   "nbconvert_exporter": "python",
   "pygments_lexer": "ipython3",
   "version": "3.7.0"
  }
 },
 "nbformat": 4,
 "nbformat_minor": 2
}
