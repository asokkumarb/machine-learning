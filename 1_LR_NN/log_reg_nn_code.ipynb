{
 "cells": [
  {
   "cell_type": "code",
   "execution_count": 1,
   "metadata": {},
   "outputs": [],
   "source": [
    "#this is the logistic regression as a neural network."
   ]
  },
  {
   "cell_type": "code",
   "execution_count": 8,
   "metadata": {},
   "outputs": [
    {
     "name": "stdout",
     "output_type": "stream",
     "text": [
      "modules loaded successfully\n"
     ]
    }
   ],
   "source": [
    "#importing the necessary packages\n",
    "import numpy as np\n",
    "import matplotlib.pyplot as plt\n",
    "import h5py\n",
    "\n",
    "%matplotlib inline\n",
    "\n",
    "print(\"modules loaded successfully\")\n"
   ]
  },
  {
   "cell_type": "code",
   "execution_count": 9,
   "metadata": {},
   "outputs": [
    {
     "name": "stdout",
     "output_type": "stream",
     "text": [
      "dataset loaded\n"
     ]
    }
   ],
   "source": [
    "#now that the modules are here, let's take in the data using h5py package\n",
    "train_dataset = h5py.File(\"datasets/train_catvnoncat.h5\")\n",
    "train_set_x_orig = np.array(train_dataset[\"train_set_x\"][:]) #training set image pixel values\n",
    "train_set_y_orig = np.array(train_dataset[\"train_set_y\"][:]) #train set labels\n",
    "\n",
    "test_dataset = h5py.File(\"datasets/test_catvnoncat.h5\")\n",
    "test_set_x_orig = np.array(test_dataset[\"test_set_x\"][:]) #test set image pixels\n",
    "test_set_y_orig = np.array(test_dataset[\"test_set_y\"][:]) #test set labels\n",
    "n t\n",
    "train_set_y = train_set_y_orig.reshape((1, train_set_y_orig.shape[0]))\n",
    "test_set_y = test_set_y_orig.reshape((1, test_set_y_orig.shape[0]))\n",
    "\n",
    "print(\"dataset loaded\")"
   ]
  },
  {
   "cell_type": "code",
   "execution_count": null,
   "metadata": {},
   "outputs": [],
   "source": [
    "#let's flatten and normalize the data post which we can start our model making"
   ]
  },
  {
   "cell_type": "code",
   "execution_count": 20,
   "metadata": {},
   "outputs": [],
   "source": [
    "train_set_x_flatten = train_set_x_orig.reshape((train_set_x_orig.shape[0], -1)).T\n",
    "test_set_x_flatten = test_set_x_orig.reshape((test_set_x_orig.shape[0], -1)).T\n",
    "\n",
    "#normalize\n",
    "train_X = train_set_x_flatten/255\n",
    "test_X = test_set_x_orig/255"
   ]
  },
  {
   "cell_type": "code",
   "execution_count": 21,
   "metadata": {},
   "outputs": [
    {
     "data": {
      "text/plain": [
       "\"\\n1. We need to define the neural network architecture\\n    - this involves figuring out how many neurons should be there\\n    - the number of layers (in this case it is only one input and one output layer)\\n2. Initialization\\n    -the parameter initialization. We can do zeros or random. Let's do random this time\\n3. forward propagation\\n    -calculation of the activations\\n    -calculation of the cost function based on these activations (cross entropy loss in this case)\\n4. backpropagation\\n    -this helps in calculation of the dw and db\\n5. optimization\\n    -basically using the gradient descent algorithm for updating the values of w and b parameters\\n6. predictions\\n    -evaluating the test dataset on the learned parameters\\n\""
      ]
     },
     "execution_count": 21,
     "metadata": {},
     "output_type": "execute_result"
    }
   ],
   "source": [
    "#let's start with the making pof the algorithm we gonna break it into different steps\n",
    "'''\n",
    "1. We need to define the neural network architecture\n",
    "    - this involves figuring out how many neurons should be there\n",
    "    - the number of layers (in this case it is only one input and one output layer)\n",
    "2. Initialization\n",
    "    -the parameter initialization. We can do zeros or random. Let's do random this time\n",
    "3. forward propagation\n",
    "    -calculation of the activations\n",
    "    -calculation of the cost function based on these activations (cross entropy loss in this case)\n",
    "4. backpropagation\n",
    "    -this helps in calculation of the dw and db\n",
    "5. optimization\n",
    "    -basically using the gradient descent algorithm for updating the values of w and b parameters\n",
    "6. predictions\n",
    "    -evaluating the test dataset on the learned parameters\n",
    "'''"
   ]
  },
  {
   "cell_type": "code",
   "execution_count": null,
   "metadata": {},
   "outputs": [],
   "source": [
    "#let's start with it. Let us start with the initialization step\n",
    "#here we need to initialize the parameters based on the dimensions of the data\n",
    "\n",
    "def initialize(dims):\n",
    "    \n",
    "    w = np.random.randn(())"
   ]
  }
 ],
 "metadata": {
  "kernelspec": {
   "display_name": "Python 3",
   "language": "python",
   "name": "python3"
  },
  "language_info": {
   "codemirror_mode": {
    "name": "ipython",
    "version": 3
   },
   "file_extension": ".py",
   "mimetype": "text/x-python",
   "name": "python",
   "nbconvert_exporter": "python",
   "pygments_lexer": "ipython3",
   "version": "3.5.2"
  }
 },
 "nbformat": 4,
 "nbformat_minor": 2
}
