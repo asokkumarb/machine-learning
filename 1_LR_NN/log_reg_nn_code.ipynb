{
 "cells": [
  {
   "cell_type": "code",
   "execution_count": 1,
   "metadata": {},
   "outputs": [],
   "source": [
    "#this is the logistic regression as a neural network."
   ]
  },
  {
   "cell_type": "code",
   "execution_count": 55,
   "metadata": {},
   "outputs": [
    {
     "name": "stdout",
     "output_type": "stream",
     "text": [
      "modules loaded successfully\n"
     ]
    }
   ],
   "source": [
    "#importing the necessary packages\n",
    "import numpy as np\n",
    "import matplotlib.pyplot as plt\n",
    "import h5py\n",
    "\n",
    "%matplotlib inline\n",
    "\n",
    "print(\"modules loaded successfully\")\n"
   ]
  },
  {
   "cell_type": "code",
   "execution_count": 56,
   "metadata": {},
   "outputs": [
    {
     "name": "stdout",
     "output_type": "stream",
     "text": [
      "dataset loaded\n"
     ]
    }
   ],
   "source": [
    "#now that the modules are here, let's take in the data using h5py package\n",
    "train_dataset = h5py.File(\"datasets/train_catvnoncat1.h5\")\n",
    "train_set_x_orig = np.array(train_dataset[\"train_set_x\"][:]) #training set image pixel values\n",
    "train_set_y_orig = np.array(train_dataset[\"train_set_y\"][:]) #train set labels\n",
    "\n",
    "test_dataset = h5py.File(\"datasets/test_catvnoncat1.h5\")\n",
    "test_set_x_orig = np.array(test_dataset[\"test_set_x\"][:]) #test set image pixels\n",
    "test_set_y_orig = np.array(test_dataset[\"test_set_y\"][:]) #test set labels\n",
    "\n",
    "train_set_y = train_set_y_orig.reshape((1, train_set_y_orig.shape[0]))\n",
    "test_set_y = test_set_y_orig.reshape((1, test_set_y_orig.shape[0]))\n",
    "\n",
    "print(\"dataset loaded\")"
   ]
  },
  {
   "cell_type": "code",
   "execution_count": 57,
   "metadata": {},
   "outputs": [],
   "source": [
    "#let's flatten and normalize the data post which we can start our model making"
   ]
  },
  {
   "cell_type": "code",
   "execution_count": 58,
   "metadata": {},
   "outputs": [],
   "source": [
    "train_set_x_flatten = train_set_x_orig.reshape((train_set_x_orig.shape[0], -1)).T\n",
    "test_set_x_flatten = test_set_x_orig.reshape((test_set_x_orig.shape[0], -1)).T\n",
    "\n",
    "#normalize\n",
    "train_X = train_set_x_flatten/255\n",
    "test_X = test_set_x_flatten/255"
   ]
  },
  {
   "cell_type": "code",
   "execution_count": 59,
   "metadata": {},
   "outputs": [
    {
     "data": {
      "text/plain": [
       "\"\\n1. We need to define the neural network architecture\\n    - this involves figuring out how many neurons should be there\\n    - the number of layers (in this case it is only one input and one output layer)\\n2. Initialization\\n    -the parameter initialization. We can do zeros or random. Let's do random this time\\n3. forward propagation\\n    -calculation of the activations\\n    -calculation of the cost function based on these activations (cross entropy loss in this case)\\n4. backpropagation\\n    -this helps in calculation of the dw and db\\n5. optimization\\n    -basically using the gradient descent algorithm for updating the values of w and b parameters\\n6. predictions\\n    -evaluating the test dataset on the learned parameters\\n\""
      ]
     },
     "execution_count": 59,
     "metadata": {},
     "output_type": "execute_result"
    }
   ],
   "source": [
    "#let's start with the making pof the algorithm we gonna break it into different steps\n",
    "'''\n",
    "1. We need to define the neural network architecture\n",
    "    - this involves figuring out how many neurons should be there\n",
    "    - the number of layers (in this case it is only one input and one output layer)\n",
    "2. Initialization\n",
    "    -the parameter initialization. We can do zeros or random. Let's do random this time\n",
    "3. forward propagation\n",
    "    -calculation of the activations\n",
    "    -calculation of the cost function based on these activations (cross entropy loss in this case)\n",
    "4. backpropagation\n",
    "    -this helps in calculation of the dw and db\n",
    "5. optimization\n",
    "    -basically using the gradient descent algorithm for updating the values of w and b parameters\n",
    "6. predictions\n",
    "    -evaluating the test dataset on the learned parameters\n",
    "'''"
   ]
  },
  {
   "cell_type": "code",
   "execution_count": 60,
   "metadata": {},
   "outputs": [],
   "source": [
    "#let's start with it. Let us start with the initialization step\n",
    "#here we need to initialize the parameters based on the dimensions of the data\n",
    "\n",
    "def initialize(dims):\n",
    "    \n",
    "    #w = np.abs(np.random.randn(dims, 1))\n",
    "    w = np.zeros((dims, 1))\n",
    "    b = 0\n",
    "    \n",
    "    assert(w.shape == (dims, 1))\n",
    "    assert(isinstance(b, float) or isinstance(b, int))\n",
    "    return w, b"
   ]
  },
  {
   "cell_type": "code",
   "execution_count": 61,
   "metadata": {},
   "outputs": [],
   "source": [
    "#now we need to start with the propagation step. Since we need to calculate sigmoid, we need to get that\n",
    "#helper function. Let's make it.\n",
    "\n",
    "def sigmoid(z):\n",
    "    \n",
    "    s = 1/(1 + np.exp(-z))\n",
    "    \n",
    "    return s"
   ]
  },
  {
   "cell_type": "code",
   "execution_count": 62,
   "metadata": {},
   "outputs": [],
   "source": [
    "#now we can start with the propagation. First we are going to do the forward propagation and then the backward\n",
    "#propagation. Both of these steps will be coded in the propagate() function\n",
    "\n",
    "def propagate(w, b, X, Y):\n",
    "    \n",
    "    m = X.shape[1]\n",
    "    \n",
    "    A = sigmoid(np.dot(w.T, X) + b)\n",
    "    cost = -((np.sum(Y * np.log(A) + (1 - Y) * np.log(1 - A)))/m)\n",
    "    \n",
    "    #back propagation\n",
    "    dw = (1/m) * np.dot(X, (A - Y).T)\n",
    "    db = (1/m) * np.sum(A - Y)\n",
    "    \n",
    "    assert(dw.shape == w.shape)\n",
    "    assert(db.dtype == float)\n",
    "    cost = np.squeeze(cost)\n",
    "    assert(cost.shape == ())\n",
    "    \n",
    "    grads = {\"dw\" : dw, \"db\" : db}\n",
    "    \n",
    "    return grads, cost"
   ]
  },
  {
   "cell_type": "code",
   "execution_count": 63,
   "metadata": {},
   "outputs": [],
   "source": [
    "#after we have propagated we have gotten the current cost using the current parameters\n",
    "#these parameters are then updated by optimizing them. This is basically the gradient descent. \n",
    "\n",
    "def optimize(w, b, X, Y, num_iterations, learning_rate):\n",
    "    \n",
    "    costs = []\n",
    "    \n",
    "    for i in range(num_iterations):\n",
    "        grads, cost = propagate(w, b, X, Y)\n",
    "    \n",
    "        dw = grads[\"dw\"]\n",
    "        db = grads[\"db\"]\n",
    "    \n",
    "        w = w - (learning_rate * dw)\n",
    "        b = b - (learning_rate * db)\n",
    "    \n",
    "        costs.append(cost)\n",
    "        \n",
    "        if(i % 100 == 0):\n",
    "            print(cost)\n",
    "    \n",
    "    params = {\"w\" : w, \"b\" : b}\n",
    "    \n",
    "    grads = {\"dw\" : dw, \"db\" : db}\n",
    "    \n",
    "    return params, grads, costs"
   ]
  },
  {
   "cell_type": "code",
   "execution_count": 64,
   "metadata": {},
   "outputs": [],
   "source": [
    "#finally we need to predict our results using the test dataset\n",
    "def predict(w, b, X):\n",
    "    \n",
    "    m = X.shape[1]\n",
    "    Y_prediction = np.zeros((1, m))\n",
    "    w = w.reshape(X.shape[0], 1)\n",
    "    \n",
    "    A = sigmoid(np.dot(w.T, X) + b)\n",
    "    \n",
    "    for i in range(A.shape[1]):\n",
    "        \n",
    "        if A[0, i] <= 0.5:\n",
    "            Y_prediction[0, i] = 0\n",
    "        else:\n",
    "            Y_prediction[0, i] = 1\n",
    "    \n",
    "    assert(Y_prediction.shape == (1,m))\n",
    "    \n",
    "    return Y_prediction"
   ]
  },
  {
   "cell_type": "code",
   "execution_count": 65,
   "metadata": {},
   "outputs": [],
   "source": [
    "#let's put it all together into a model function\n",
    "\n",
    "def model(X_train, Y_train, X_test, Y_test, num_iterations = 2000, learning_rate = 0.5):\n",
    "    \n",
    "    #random initialization of parameters\n",
    "    w, b = initialize(X_train.shape[0])\n",
    "    \n",
    "    #forward propagation and optimization\n",
    "    params, grads, costs = optimize(w, b, X_train, Y_train, num_iterations, learning_rate)\n",
    "    \n",
    "    #learnt parameters\n",
    "    w = params[\"w\"]\n",
    "    b = params[\"b\"]\n",
    "    \n",
    "    #prediction\n",
    "    Y_prediction_test = predict(w, b, X_test)\n",
    "    Y_prediction_train = predict(w, b, X_train)\n",
    "    \n",
    "    # Print train/test Errors\n",
    "    print(\"train accuracy: {} %\".format(100 - np.mean(np.abs(Y_prediction_train - Y_train)) * 100))\n",
    "    print(\"test accuracy: {} %\".format(100 - np.mean(np.abs(Y_prediction_test - Y_test)) * 100))\n",
    "    \n",
    "    d = {\"costs\" : costs,\n",
    "        \"Y_prediction_test\" : Y_prediction_test,\n",
    "        \"Y_prediction_train\" : Y_prediction_train,\n",
    "        \"w\" : w, \n",
    "         \"b\" : b,\n",
    "         \"learning_rate\" : learning_rate,\n",
    "         \"num_iterations\": num_iterations}\n",
    "    \n",
    "    return d"
   ]
  },
  {
   "cell_type": "code",
   "execution_count": 70,
   "metadata": {},
   "outputs": [
    {
     "name": "stdout",
     "output_type": "stream",
     "text": [
      "0.6931471805599453\n",
      "0.5956847473191387\n",
      "0.5619946913415846\n",
      "0.5364213924623396\n",
      "0.5152851150897306\n",
      "0.4970621787944805\n",
      "0.48094120566847054\n",
      "0.4664311300201425\n",
      "0.4532089438915135\n",
      "0.4410486266433077\n",
      "0.42978426187404756\n",
      "0.419289387413833\n",
      "0.40946469956928017\n",
      "0.400230339054692\n",
      "0.3915208293285501\n",
      "0.3832816248218766\n",
      "0.3754666778936622\n",
      "0.36803667456505756\n",
      "0.3609577237238532\n",
      "0.3542003626537763\n",
      "0.3477387887724878\n",
      "0.34155025669768746\n",
      "0.3356145984823919\n",
      "0.32991383717589545\n",
      "0.3244318721669165\n",
      "0.3191542204825033\n",
      "0.3140678022321797\n",
      "0.30916076125809383\n",
      "0.30442231413793985\n",
      "0.2998426222251469\n",
      "0.29541268255952674\n",
      "0.2911242343501845\n",
      "0.2869696783967041\n",
      "0.28294200732779634\n",
      "0.27903474493688274\n",
      "0.27524189320907505\n",
      "0.2715578858839159\n",
      "0.2679775475980144\n",
      "0.26449605781253693\n",
      "0.26110891886082865\n",
      "train accuracy: 95.2153110047847 %\n",
      "test accuracy: 74.0 %\n"
     ]
    },
    {
     "data": {
      "image/png": "[encoded data removed]",
      "text/plain": [
       "<Figure size 432x288 with 1 Axes>"
      ]
     },
     "metadata": {
      "needs_background": "light"
     },
     "output_type": "display_data"
    }
   ],
   "source": [
    "d = model(train_X, train_set_y, test_X, test_set_y, num_iterations = 4000, learning_rate = 0.0009)\n",
    "plt.plot(d[\"costs\"])\n",
    "plt.show()"
   ]
  },
  {
   "cell_type": "code",
   "execution_count": null,
   "metadata": {},
   "outputs": [],
   "source": []
  }
 ],
 "metadata": {
  "kernelspec": {
   "display_name": "Python 3",
   "language": "python",
   "name": "python3"
  },
  "language_info": {
   "codemirror_mode": {
    "name": "ipython",
    "version": 3
   },
   "file_extension": ".py",
   "mimetype": "text/x-python",
   "name": "python",
   "nbconvert_exporter": "python",
   "pygments_lexer": "ipython3",
   "version": "3.7.0"
  }
 },
 "nbformat": 4,
 "nbformat_minor": 2
}
